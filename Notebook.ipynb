{
 "cells": [
  {
   "cell_type": "markdown",
   "metadata": {
    "id": "0N23WeZ3O8RD"
   },
   "source": [
    "# Text and Graph Mining proof-of-concept product"
   ]
  },
  {
   "cell_type": "markdown",
   "metadata": {
    "id": "ZRxYV5nAJfDV"
   },
   "source": [
    "The goal of this notebook is to categorize the reviews about resturants in Jordan to positive (1), negative (2) and neutral (0) reviews."
   ]
  },
  {
   "cell_type": "markdown",
   "metadata": {
    "id": "WEcyZx0fPGvG"
   },
   "source": [
    "## 1- Data Analysis & Preprocessing."
   ]
  },
  {
   "cell_type": "code",
   "execution_count": 1,
   "metadata": {
    "colab": {
     "base_uri": "https://localhost:8080/"
    },
    "id": "QY5OFEctOrUe",
    "outputId": "86940cb2-fccb-47f2-f10e-3efabf908b56"
   },
   "outputs": [
    {
     "name": "stderr",
     "output_type": "stream",
     "text": [
      "[nltk_data] Downloading package punkt to /root/nltk_data...\n",
      "[nltk_data]   Unzipping tokenizers/punkt.zip.\n",
      "[nltk_data] Downloading package stopwords to /root/nltk_data...\n",
      "[nltk_data]   Unzipping corpora/stopwords.zip.\n",
      "[nltk_data] Downloading package wordnet to /root/nltk_data...\n",
      "[nltk_data] Downloading package omw-1.4 to /root/nltk_data...\n"
     ]
    }
   ],
   "source": [
    "# Importing necessary libraries\n",
    "import nltk\n",
    "nltk.download('punkt')\n",
    "from nltk.tokenize import word_tokenize\n",
    "from nltk.corpus import stopwords, wordnet\n",
    "nltk.download('stopwords')\n",
    "nltk.download('wordnet')\n",
    "nltk.download('omw-1.4')\n",
    "from nltk.stem import WordNetLemmatizer\n",
    "from sklearn.feature_extraction.text import CountVectorizer\n",
    "from sklearn.feature_extraction.text import TfidfTransformer\n",
    "from nltk.stem import PorterStemmer\n",
    "from nltk.tokenize import sent_tokenize\n",
    "from collections import Counter\n",
    "import sklearn\n",
    "import pandas as pd\n",
    "import numpy as np\n",
    "import matplotlib.pyplot as plt\n",
    "import seaborn as sns\n",
    "import string\n",
    "import re"
   ]
  },
  {
   "cell_type": "code",
   "execution_count": 2,
   "metadata": {
    "colab": {
     "base_uri": "https://localhost:8080/",
     "height": 206
    },
    "id": "eTKeJpNOPPZj",
    "outputId": "114e5d7c-192f-4736-d31f-7d6827d67668"
   },
   "outputs": [
    {
     "data": {
      "text/html": [
       "\n",
       "  <div id=\"df-3908535e-2c3b-4429-9786-ef13d7a59219\">\n",
       "    <div class=\"colab-df-container\">\n",
       "      <div>\n",
       "<style scoped>\n",
       "    .dataframe tbody tr th:only-of-type {\n",
       "        vertical-align: middle;\n",
       "    }\n",
       "\n",
       "    .dataframe tbody tr th {\n",
       "        vertical-align: top;\n",
       "    }\n",
       "\n",
       "    .dataframe thead th {\n",
       "        text-align: right;\n",
       "    }\n",
       "</style>\n",
       "<table border=\"1\" class=\"dataframe\">\n",
       "  <thead>\n",
       "    <tr style=\"text-align: right;\">\n",
       "      <th></th>\n",
       "      <th>Text</th>\n",
       "      <th>Class</th>\n",
       "    </tr>\n",
       "  </thead>\n",
       "  <tbody>\n",
       "    <tr>\n",
       "      <th>0</th>\n",
       "      <td>المكان كتيير حلو اكله الحمدلله منيح عادي وفي ا...</td>\n",
       "      <td>1</td>\n",
       "    </tr>\n",
       "    <tr>\n",
       "      <th>1</th>\n",
       "      <td>المطعم زرته ﻷول مرة مبارح على بوفيه الفطور الر...</td>\n",
       "      <td>1</td>\n",
       "    </tr>\n",
       "    <tr>\n",
       "      <th>2</th>\n",
       "      <td>سناكاته زاكية سعره سعر السوق ..احلى ما في المو...</td>\n",
       "      <td>1</td>\n",
       "    </tr>\n",
       "    <tr>\n",
       "      <th>3</th>\n",
       "      <td>بهارات البروستد كتير مميزة ومش ناقصها اشي , وا...</td>\n",
       "      <td>1</td>\n",
       "    </tr>\n",
       "    <tr>\n",
       "      <th>4</th>\n",
       "      <td>هاد الفرع مش تابع لشاورما الريم الاصلي فروع شا...</td>\n",
       "      <td>0</td>\n",
       "    </tr>\n",
       "  </tbody>\n",
       "</table>\n",
       "</div>\n",
       "      <button class=\"colab-df-convert\" onclick=\"convertToInteractive('df-3908535e-2c3b-4429-9786-ef13d7a59219')\"\n",
       "              title=\"Convert this dataframe to an interactive table.\"\n",
       "              style=\"display:none;\">\n",
       "        \n",
       "  <svg xmlns=\"http://www.w3.org/2000/svg\" height=\"24px\"viewBox=\"0 0 24 24\"\n",
       "       width=\"24px\">\n",
       "    <path d=\"M0 0h24v24H0V0z\" fill=\"none\"/>\n",
       "    <path d=\"M18.56 5.44l.94 2.06.94-2.06 2.06-.94-2.06-.94-.94-2.06-.94 2.06-2.06.94zm-11 1L8.5 8.5l.94-2.06 2.06-.94-2.06-.94L8.5 2.5l-.94 2.06-2.06.94zm10 10l.94 2.06.94-2.06 2.06-.94-2.06-.94-.94-2.06-.94 2.06-2.06.94z\"/><path d=\"M17.41 7.96l-1.37-1.37c-.4-.4-.92-.59-1.43-.59-.52 0-1.04.2-1.43.59L10.3 9.45l-7.72 7.72c-.78.78-.78 2.05 0 2.83L4 21.41c.39.39.9.59 1.41.59.51 0 1.02-.2 1.41-.59l7.78-7.78 2.81-2.81c.8-.78.8-2.07 0-2.86zM5.41 20L4 18.59l7.72-7.72 1.47 1.35L5.41 20z\"/>\n",
       "  </svg>\n",
       "      </button>\n",
       "      \n",
       "  <style>\n",
       "    .colab-df-container {\n",
       "      display:flex;\n",
       "      flex-wrap:wrap;\n",
       "      gap: 12px;\n",
       "    }\n",
       "\n",
       "    .colab-df-convert {\n",
       "      background-color: #E8F0FE;\n",
       "      border: none;\n",
       "      border-radius: 50%;\n",
       "      cursor: pointer;\n",
       "      display: none;\n",
       "      fill: #1967D2;\n",
       "      height: 32px;\n",
       "      padding: 0 0 0 0;\n",
       "      width: 32px;\n",
       "    }\n",
       "\n",
       "    .colab-df-convert:hover {\n",
       "      background-color: #E2EBFA;\n",
       "      box-shadow: 0px 1px 2px rgba(60, 64, 67, 0.3), 0px 1px 3px 1px rgba(60, 64, 67, 0.15);\n",
       "      fill: #174EA6;\n",
       "    }\n",
       "\n",
       "    [theme=dark] .colab-df-convert {\n",
       "      background-color: #3B4455;\n",
       "      fill: #D2E3FC;\n",
       "    }\n",
       "\n",
       "    [theme=dark] .colab-df-convert:hover {\n",
       "      background-color: #434B5C;\n",
       "      box-shadow: 0px 1px 3px 1px rgba(0, 0, 0, 0.15);\n",
       "      filter: drop-shadow(0px 1px 2px rgba(0, 0, 0, 0.3));\n",
       "      fill: #FFFFFF;\n",
       "    }\n",
       "  </style>\n",
       "\n",
       "      <script>\n",
       "        const buttonEl =\n",
       "          document.querySelector('#df-3908535e-2c3b-4429-9786-ef13d7a59219 button.colab-df-convert');\n",
       "        buttonEl.style.display =\n",
       "          google.colab.kernel.accessAllowed ? 'block' : 'none';\n",
       "\n",
       "        async function convertToInteractive(key) {\n",
       "          const element = document.querySelector('#df-3908535e-2c3b-4429-9786-ef13d7a59219');\n",
       "          const dataTable =\n",
       "            await google.colab.kernel.invokeFunction('convertToInteractive',\n",
       "                                                     [key], {});\n",
       "          if (!dataTable) return;\n",
       "\n",
       "          const docLinkHtml = 'Like what you see? Visit the ' +\n",
       "            '<a target=\"_blank\" href=https://colab.research.google.com/notebooks/data_table.ipynb>data table notebook</a>'\n",
       "            + ' to learn more about interactive tables.';\n",
       "          element.innerHTML = '';\n",
       "          dataTable['output_type'] = 'display_data';\n",
       "          await google.colab.output.renderOutput(dataTable, element);\n",
       "          const docLink = document.createElement('div');\n",
       "          docLink.innerHTML = docLinkHtml;\n",
       "          element.appendChild(docLink);\n",
       "        }\n",
       "      </script>\n",
       "    </div>\n",
       "  </div>\n",
       "  "
      ],
      "text/plain": [
       "                                                Text  Class\n",
       "0  المكان كتيير حلو اكله الحمدلله منيح عادي وفي ا...      1\n",
       "1  المطعم زرته ﻷول مرة مبارح على بوفيه الفطور الر...      1\n",
       "2  سناكاته زاكية سعره سعر السوق ..احلى ما في المو...      1\n",
       "3  بهارات البروستد كتير مميزة ومش ناقصها اشي , وا...      1\n",
       "4  هاد الفرع مش تابع لشاورما الريم الاصلي فروع شا...      0"
      ]
     },
     "execution_count": 2,
     "metadata": {},
     "output_type": "execute_result"
    }
   ],
   "source": [
    "# Importing the dataset\n",
    "df = pd.read_csv(\"reviews.csv\", encoding= 'utf-8')\n",
    "df.head(5)"
   ]
  },
  {
   "cell_type": "code",
   "execution_count": 3,
   "metadata": {
    "colab": {
     "base_uri": "https://localhost:8080/"
    },
    "id": "htTIrGjjP9s8",
    "outputId": "2206c7f4-03cb-4d34-cfd7-4d691b00878b"
   },
   "outputs": [
    {
     "data": {
      "text/plain": [
       "(2500, 2)"
      ]
     },
     "execution_count": 3,
     "metadata": {},
     "output_type": "execute_result"
    }
   ],
   "source": [
    "# Checking the size of the data \n",
    "df.shape"
   ]
  },
  {
   "cell_type": "markdown",
   "metadata": {
    "id": "XIZHrK3wQHVs"
   },
   "source": [
    "The data consists of 2 features and 2500 instances."
   ]
  },
  {
   "cell_type": "code",
   "execution_count": 4,
   "metadata": {
    "colab": {
     "base_uri": "https://localhost:8080/"
    },
    "id": "Q88cyhO5PtHV",
    "outputId": "1a0a42fd-1cba-439e-bba1-83213c8fafbd"
   },
   "outputs": [
    {
     "name": "stdout",
     "output_type": "stream",
     "text": [
      "<class 'pandas.core.frame.DataFrame'>\n",
      "RangeIndex: 2500 entries, 0 to 2499\n",
      "Data columns (total 2 columns):\n",
      " #   Column  Non-Null Count  Dtype \n",
      "---  ------  --------------  ----- \n",
      " 0   Text    2500 non-null   object\n",
      " 1   Class   2500 non-null   int64 \n",
      "dtypes: int64(1), object(1)\n",
      "memory usage: 39.2+ KB\n"
     ]
    }
   ],
   "source": [
    "# Checking the data types\n",
    "df.info()"
   ]
  },
  {
   "cell_type": "markdown",
   "metadata": {
    "id": "85p_hlR6P2XU"
   },
   "source": [
    "As can be noticed, the text is an object while the classes are numerical."
   ]
  },
  {
   "cell_type": "code",
   "execution_count": 5,
   "metadata": {
    "colab": {
     "base_uri": "https://localhost:8080/"
    },
    "id": "uyLycrgXQSde",
    "outputId": "1e850f2b-d803-4b8e-a338-061cfffb05d8"
   },
   "outputs": [
    {
     "data": {
      "text/plain": [
       "Text     0\n",
       "Class    0\n",
       "dtype: int64"
      ]
     },
     "execution_count": 5,
     "metadata": {},
     "output_type": "execute_result"
    }
   ],
   "source": [
    "# Checking for nulls\n",
    "df.isnull().sum()"
   ]
  },
  {
   "cell_type": "markdown",
   "metadata": {
    "id": "WNdfdGQ7QWb-"
   },
   "source": [
    "The data has no null values"
   ]
  },
  {
   "cell_type": "code",
   "execution_count": 6,
   "metadata": {
    "colab": {
     "base_uri": "https://localhost:8080/"
    },
    "id": "ahgWqwKpQY6L",
    "outputId": "f37d69a3-36d1-4638-b6f6-6b004306c7b9"
   },
   "outputs": [
    {
     "data": {
      "text/plain": [
       "(2481, 2)"
      ]
     },
     "execution_count": 6,
     "metadata": {},
     "output_type": "execute_result"
    }
   ],
   "source": [
    "# Checking and droping duplicates\n",
    "df.drop_duplicates(inplace = True)\n",
    "df.shape"
   ]
  },
  {
   "cell_type": "markdown",
   "metadata": {
    "id": "vJ7Cy4WSQicp"
   },
   "source": [
    "The size of instances changed from 2500 to 2481, meaning that there were 19 duplicates in the data."
   ]
  },
  {
   "cell_type": "code",
   "execution_count": 7,
   "metadata": {
    "colab": {
     "base_uri": "https://localhost:8080/"
    },
    "id": "G2sAMq-kQ_Q4",
    "outputId": "2129ae24-bf26-4b93-a8c1-49d84c494b6a"
   },
   "outputs": [
    {
     "data": {
      "text/plain": [
       "array([1, 0, 2])"
      ]
     },
     "execution_count": 7,
     "metadata": {},
     "output_type": "execute_result"
    }
   ],
   "source": [
    "# Checking the classes' unique values\n",
    "df['Class'].unique()"
   ]
  },
  {
   "cell_type": "code",
   "execution_count": 8,
   "metadata": {
    "colab": {
     "base_uri": "https://localhost:8080/"
    },
    "id": "bIiiPwfHPaEF",
    "outputId": "6b746645-17ed-4488-a8dc-28d7814a73a1"
   },
   "outputs": [
    {
     "data": {
      "text/plain": [
       "1    1884\n",
       "2     347\n",
       "0     250\n",
       "Name: Class, dtype: int64"
      ]
     },
     "execution_count": 8,
     "metadata": {},
     "output_type": "execute_result"
    }
   ],
   "source": [
    "# Checking the balance of classes\n",
    "df['Class'].value_counts()"
   ]
  },
  {
   "cell_type": "code",
   "execution_count": 9,
   "metadata": {
    "colab": {
     "base_uri": "https://localhost:8080/",
     "height": 279
    },
    "id": "0lyjqlrwRJfn",
    "outputId": "7530ee62-487a-4bb6-dfc6-1337a23f50cd"
   },
   "outputs": [
    {
     "data": {
      "image/png": "[encoded data removed]",
      "text/plain": [
       "<Figure size 432x288 with 1 Axes>"
      ]
     },
     "metadata": {
      "needs_background": "light"
     },
     "output_type": "display_data"
    }
   ],
   "source": [
    "# Plotting the distribution of classes among the instances\n",
    "sns.countplot(x = 'Class', data = df)\n",
    "plt.show()"
   ]
  },
  {
   "cell_type": "markdown",
   "metadata": {
    "id": "2xVKsi05PnWW"
   },
   "source": [
    "As can be seen from the above, the classes are not balanced, this issue will be handeled after the data is transformed to structured form."
   ]
  },
  {
   "cell_type": "code",
   "execution_count": 10,
   "metadata": {
    "id": "Li6uEEC9Se84"
   },
   "outputs": [],
   "source": [
    "# Creating a function to clean arabic text data from any punctutation, tashkeel, longation, \n",
    "# repeating characters, numbers special characters and emojis\n",
    "import string\n",
    "from string import digits\n",
    "\n",
    "arabic_punctuations = '''`÷×؛<>_()*&^%][ـ،/:\"؟.,'{}~¦+|!”…“–ـ'''\n",
    "english_punctuations = string.punctuation\n",
    "punctuations_list = arabic_punctuations + english_punctuations\n",
    "arabic_diacritics = re.compile(\"\"\"\n",
    "                             ّ    | # Shadda\n",
    "                             َ    | # Fatha\n",
    "                             ً    | # Tanwin Fath\n",
    "                             ُ    | # Damma\n",
    "                             ٌ    | # Tanwin Damm\n",
    "                             ِ    | # Kasra\n",
    "                             ٍ    | # Tanwin Kasr\n",
    "                             ْ    | # Sukun\n",
    "                             ـ     # Tatwil/Kashida\n",
    "                         \"\"\", re.VERBOSE)\n",
    "\n",
    "\n",
    "def clean_feedback(feedback):\n",
    "\n",
    "    # Removing punctuations\n",
    "    translator = str.maketrans('', '', punctuations_list)\n",
    "    text1 = feedback.translate(translator)\n",
    "\n",
    "    # Removing longation\n",
    "    text1 = re.sub(\"[إأآا]\", \"ا\", text1)\n",
    "    text1 = re.sub(\"ى\", \"ي\", text1)\n",
    "    text1 = re.sub(\"ؤ\", \"ء\", text1)\n",
    "    text1 = re.sub(\"ئ\", \"ء\", text1)\n",
    "    text1 = re.sub(\"ة\", \"ه\", text1)\n",
    "    text1 = re.sub(\"گ\", \"ك\", text1)\n",
    "    # print(text1)\n",
    "\n",
    "    # Removing special characters \n",
    "    text1 = re.sub(\"@[ا-ي0-9]+\", \" \", text1)\n",
    "    text1 = re.sub(\"[أ-ي]#+\", \" \", text1)\n",
    "    text1 = re.sub(\"#[أ-ي]+\", \" \", text1)\n",
    "    # print(text1)\n",
    "\n",
    "    # Removing Tashkeel\n",
    "    text1 = re.sub(arabic_diacritics, '', text1)\n",
    "\n",
    "    # Removing emojies\n",
    "    emoj = re.compile(\"[\"\n",
    "        u\"\\U0001F600-\\U0001F64F\"  # emoticons\n",
    "        u\"\\U0001F300-\\U0001F5FF\"  # symbols & pictographs\n",
    "        u\"\\U0001F680-\\U0001F6FF\"  # transport & map symbols\n",
    "        u\"\\U0001F1E0-\\U0001F1FF\"  # flags (iOS)\n",
    "        u\"\\U00002500-\\U00002BEF\"  # chinese char\n",
    "        u\"\\U00002702-\\U000027B0\"\n",
    "        u\"\\U00002702-\\U000027B0\"\n",
    "        u\"\\U000024C2-\\U0001F251\"\n",
    "        u\"\\U0001f926-\\U0001f937\"\n",
    "        u\"\\U00010000-\\U0010ffff\"\n",
    "        u\"\\u2640-\\u2642\" \n",
    "        u\"\\u2600-\\u2B55\"\n",
    "        u\"\\u200d\"\n",
    "        u\"\\u23cf\"\n",
    "        u\"\\u23e9\"\n",
    "        u\"\\u231a\"\n",
    "        u\"\\ufe0f\"  # dingbats\n",
    "        u\"\\u3030\"\n",
    "                      \"]+\", re.UNICODE)\n",
    "    text1 = re.sub(emoj, '', text1)\n",
    "\n",
    "    # Removing numbers\n",
    "    text1 = ''.join(filter(lambda x: not x.isdigit(), text1))\n",
    "\n",
    "    # Removing repeating charecters\n",
    "    text1 = re.sub(r'(.)\\1+', r'\\1', text1)\n",
    "\n",
    "    text2 = ''.join([w for w in text1])\n",
    "    return text2"
   ]
  },
  {
   "cell_type": "markdown",
   "metadata": {
    "id": "qLHIPdcAU0XI"
   },
   "source": [
    "### Text cleaning."
   ]
  },
  {
   "cell_type": "code",
   "execution_count": 11,
   "metadata": {
    "colab": {
     "base_uri": "https://localhost:8080/",
     "height": 206
    },
    "id": "-N0Yq88RSwLR",
    "outputId": "fd6dc7c2-f020-4c8b-e5a8-3ed8c5fe6497"
   },
   "outputs": [
    {
     "data": {
      "text/html": [
       "\n",
       "  <div id=\"df-909a23c0-df22-4da9-ab00-ebfdef66d741\">\n",
       "    <div class=\"colab-df-container\">\n",
       "      <div>\n",
       "<style scoped>\n",
       "    .dataframe tbody tr th:only-of-type {\n",
       "        vertical-align: middle;\n",
       "    }\n",
       "\n",
       "    .dataframe tbody tr th {\n",
       "        vertical-align: top;\n",
       "    }\n",
       "\n",
       "    .dataframe thead th {\n",
       "        text-align: right;\n",
       "    }\n",
       "</style>\n",
       "<table border=\"1\" class=\"dataframe\">\n",
       "  <thead>\n",
       "    <tr style=\"text-align: right;\">\n",
       "      <th></th>\n",
       "      <th>Text</th>\n",
       "      <th>Class</th>\n",
       "    </tr>\n",
       "  </thead>\n",
       "  <tbody>\n",
       "    <tr>\n",
       "      <th>0</th>\n",
       "      <td>المكان كتير حلو اكله الحمدله منيح عادي وفي اشي...</td>\n",
       "      <td>1</td>\n",
       "    </tr>\n",
       "    <tr>\n",
       "      <th>1</th>\n",
       "      <td>المطعم زرته ول مره مبارح علي بوفيه الفطور الرم...</td>\n",
       "      <td>1</td>\n",
       "    </tr>\n",
       "    <tr>\n",
       "      <th>2</th>\n",
       "      <td>سناكاته زاكيه سعره سعر السوق احلي ما في الموضو...</td>\n",
       "      <td>1</td>\n",
       "    </tr>\n",
       "    <tr>\n",
       "      <th>3</th>\n",
       "      <td>بهارات البروستد كتير ميزه ومش ناقصها اشي والاك...</td>\n",
       "      <td>1</td>\n",
       "    </tr>\n",
       "    <tr>\n",
       "      <th>4</th>\n",
       "      <td>هاد الفرع مش تابع لشاورما الريم الاصلي فروع شا...</td>\n",
       "      <td>0</td>\n",
       "    </tr>\n",
       "  </tbody>\n",
       "</table>\n",
       "</div>\n",
       "      <button class=\"colab-df-convert\" onclick=\"convertToInteractive('df-909a23c0-df22-4da9-ab00-ebfdef66d741')\"\n",
       "              title=\"Convert this dataframe to an interactive table.\"\n",
       "              style=\"display:none;\">\n",
       "        \n",
       "  <svg xmlns=\"http://www.w3.org/2000/svg\" height=\"24px\"viewBox=\"0 0 24 24\"\n",
       "       width=\"24px\">\n",
       "    <path d=\"M0 0h24v24H0V0z\" fill=\"none\"/>\n",
       "    <path d=\"M18.56 5.44l.94 2.06.94-2.06 2.06-.94-2.06-.94-.94-2.06-.94 2.06-2.06.94zm-11 1L8.5 8.5l.94-2.06 2.06-.94-2.06-.94L8.5 2.5l-.94 2.06-2.06.94zm10 10l.94 2.06.94-2.06 2.06-.94-2.06-.94-.94-2.06-.94 2.06-2.06.94z\"/><path d=\"M17.41 7.96l-1.37-1.37c-.4-.4-.92-.59-1.43-.59-.52 0-1.04.2-1.43.59L10.3 9.45l-7.72 7.72c-.78.78-.78 2.05 0 2.83L4 21.41c.39.39.9.59 1.41.59.51 0 1.02-.2 1.41-.59l7.78-7.78 2.81-2.81c.8-.78.8-2.07 0-2.86zM5.41 20L4 18.59l7.72-7.72 1.47 1.35L5.41 20z\"/>\n",
       "  </svg>\n",
       "      </button>\n",
       "      \n",
       "  <style>\n",
       "    .colab-df-container {\n",
       "      display:flex;\n",
       "      flex-wrap:wrap;\n",
       "      gap: 12px;\n",
       "    }\n",
       "\n",
       "    .colab-df-convert {\n",
       "      background-color: #E8F0FE;\n",
       "      border: none;\n",
       "      border-radius: 50%;\n",
       "      cursor: pointer;\n",
       "      display: none;\n",
       "      fill: #1967D2;\n",
       "      height: 32px;\n",
       "      padding: 0 0 0 0;\n",
       "      width: 32px;\n",
       "    }\n",
       "\n",
       "    .colab-df-convert:hover {\n",
       "      background-color: #E2EBFA;\n",
       "      box-shadow: 0px 1px 2px rgba(60, 64, 67, 0.3), 0px 1px 3px 1px rgba(60, 64, 67, 0.15);\n",
       "      fill: #174EA6;\n",
       "    }\n",
       "\n",
       "    [theme=dark] .colab-df-convert {\n",
       "      background-color: #3B4455;\n",
       "      fill: #D2E3FC;\n",
       "    }\n",
       "\n",
       "    [theme=dark] .colab-df-convert:hover {\n",
       "      background-color: #434B5C;\n",
       "      box-shadow: 0px 1px 3px 1px rgba(0, 0, 0, 0.15);\n",
       "      filter: drop-shadow(0px 1px 2px rgba(0, 0, 0, 0.3));\n",
       "      fill: #FFFFFF;\n",
       "    }\n",
       "  </style>\n",
       "\n",
       "      <script>\n",
       "        const buttonEl =\n",
       "          document.querySelector('#df-909a23c0-df22-4da9-ab00-ebfdef66d741 button.colab-df-convert');\n",
       "        buttonEl.style.display =\n",
       "          google.colab.kernel.accessAllowed ? 'block' : 'none';\n",
       "\n",
       "        async function convertToInteractive(key) {\n",
       "          const element = document.querySelector('#df-909a23c0-df22-4da9-ab00-ebfdef66d741');\n",
       "          const dataTable =\n",
       "            await google.colab.kernel.invokeFunction('convertToInteractive',\n",
       "                                                     [key], {});\n",
       "          if (!dataTable) return;\n",
       "\n",
       "          const docLinkHtml = 'Like what you see? Visit the ' +\n",
       "            '<a target=\"_blank\" href=https://colab.research.google.com/notebooks/data_table.ipynb>data table notebook</a>'\n",
       "            + ' to learn more about interactive tables.';\n",
       "          element.innerHTML = '';\n",
       "          dataTable['output_type'] = 'display_data';\n",
       "          await google.colab.output.renderOutput(dataTable, element);\n",
       "          const docLink = document.createElement('div');\n",
       "          docLink.innerHTML = docLinkHtml;\n",
       "          element.appendChild(docLink);\n",
       "        }\n",
       "      </script>\n",
       "    </div>\n",
       "  </div>\n",
       "  "
      ],
      "text/plain": [
       "                                                Text  Class\n",
       "0  المكان كتير حلو اكله الحمدله منيح عادي وفي اشي...      1\n",
       "1  المطعم زرته ول مره مبارح علي بوفيه الفطور الرم...      1\n",
       "2  سناكاته زاكيه سعره سعر السوق احلي ما في الموضو...      1\n",
       "3  بهارات البروستد كتير ميزه ومش ناقصها اشي والاك...      1\n",
       "4  هاد الفرع مش تابع لشاورما الريم الاصلي فروع شا...      0"
      ]
     },
     "execution_count": 11,
     "metadata": {},
     "output_type": "execute_result"
    }
   ],
   "source": [
    "# Applying the cleaning function on the text\n",
    "df['Text'] = df['Text'].apply(clean_feedback)\n",
    "df.head(5)"
   ]
  },
  {
   "cell_type": "code",
   "execution_count": 12,
   "metadata": {
    "colab": {
     "base_uri": "https://localhost:8080/",
     "height": 35
    },
    "id": "KJXoowNfqmp0",
    "outputId": "4810f3b0-860c-4d8f-e8e4-e04ec93ad776"
   },
   "outputs": [
    {
     "data": {
      "application/vnd.google.colaboratory.intrinsic+json": {
       "type": "string"
      },
      "text/plain": [
       "'اجمل محل خدمه سريعه يعني انجد يعطيهم العافيه شباب القاعده بجن '"
      ]
     },
     "execution_count": 12,
     "metadata": {},
     "output_type": "execute_result"
    }
   ],
   "source": [
    "# Checking one sentence\n",
    "df['Text'][72]"
   ]
  },
  {
   "cell_type": "markdown",
   "metadata": {
    "id": "Lvr3ae2CU3mr"
   },
   "source": [
    "### Text tokenization."
   ]
  },
  {
   "cell_type": "code",
   "execution_count": 13,
   "metadata": {
    "colab": {
     "base_uri": "https://localhost:8080/",
     "height": 206
    },
    "id": "L7kXN0kvTKbg",
    "outputId": "71d09b9e-20b9-49d7-deb9-9603005231e6"
   },
   "outputs": [
    {
     "data": {
      "text/html": [
       "\n",
       "  <div id=\"df-a24eff4c-9478-4776-8858-35205d975ca5\">\n",
       "    <div class=\"colab-df-container\">\n",
       "      <div>\n",
       "<style scoped>\n",
       "    .dataframe tbody tr th:only-of-type {\n",
       "        vertical-align: middle;\n",
       "    }\n",
       "\n",
       "    .dataframe tbody tr th {\n",
       "        vertical-align: top;\n",
       "    }\n",
       "\n",
       "    .dataframe thead th {\n",
       "        text-align: right;\n",
       "    }\n",
       "</style>\n",
       "<table border=\"1\" class=\"dataframe\">\n",
       "  <thead>\n",
       "    <tr style=\"text-align: right;\">\n",
       "      <th></th>\n",
       "      <th>Text</th>\n",
       "      <th>Class</th>\n",
       "    </tr>\n",
       "  </thead>\n",
       "  <tbody>\n",
       "    <tr>\n",
       "      <th>0</th>\n",
       "      <td>[المكان, كتير, حلو, اكله, الحمدله, منيح, عادي,...</td>\n",
       "      <td>1</td>\n",
       "    </tr>\n",
       "    <tr>\n",
       "      <th>1</th>\n",
       "      <td>[المطعم, زرته, ول, مره, مبارح, علي, بوفيه, الف...</td>\n",
       "      <td>1</td>\n",
       "    </tr>\n",
       "    <tr>\n",
       "      <th>2</th>\n",
       "      <td>[سناكاته, زاكيه, سعره, سعر, السوق, احلي, ما, ف...</td>\n",
       "      <td>1</td>\n",
       "    </tr>\n",
       "    <tr>\n",
       "      <th>3</th>\n",
       "      <td>[بهارات, البروستد, كتير, ميزه, ومش, ناقصها, اش...</td>\n",
       "      <td>1</td>\n",
       "    </tr>\n",
       "    <tr>\n",
       "      <th>4</th>\n",
       "      <td>[هاد, الفرع, مش, تابع, لشاورما, الريم, الاصلي,...</td>\n",
       "      <td>0</td>\n",
       "    </tr>\n",
       "  </tbody>\n",
       "</table>\n",
       "</div>\n",
       "      <button class=\"colab-df-convert\" onclick=\"convertToInteractive('df-a24eff4c-9478-4776-8858-35205d975ca5')\"\n",
       "              title=\"Convert this dataframe to an interactive table.\"\n",
       "              style=\"display:none;\">\n",
       "        \n",
       "  <svg xmlns=\"http://www.w3.org/2000/svg\" height=\"24px\"viewBox=\"0 0 24 24\"\n",
       "       width=\"24px\">\n",
       "    <path d=\"M0 0h24v24H0V0z\" fill=\"none\"/>\n",
       "    <path d=\"M18.56 5.44l.94 2.06.94-2.06 2.06-.94-2.06-.94-.94-2.06-.94 2.06-2.06.94zm-11 1L8.5 8.5l.94-2.06 2.06-.94-2.06-.94L8.5 2.5l-.94 2.06-2.06.94zm10 10l.94 2.06.94-2.06 2.06-.94-2.06-.94-.94-2.06-.94 2.06-2.06.94z\"/><path d=\"M17.41 7.96l-1.37-1.37c-.4-.4-.92-.59-1.43-.59-.52 0-1.04.2-1.43.59L10.3 9.45l-7.72 7.72c-.78.78-.78 2.05 0 2.83L4 21.41c.39.39.9.59 1.41.59.51 0 1.02-.2 1.41-.59l7.78-7.78 2.81-2.81c.8-.78.8-2.07 0-2.86zM5.41 20L4 18.59l7.72-7.72 1.47 1.35L5.41 20z\"/>\n",
       "  </svg>\n",
       "      </button>\n",
       "      \n",
       "  <style>\n",
       "    .colab-df-container {\n",
       "      display:flex;\n",
       "      flex-wrap:wrap;\n",
       "      gap: 12px;\n",
       "    }\n",
       "\n",
       "    .colab-df-convert {\n",
       "      background-color: #E8F0FE;\n",
       "      border: none;\n",
       "      border-radius: 50%;\n",
       "      cursor: pointer;\n",
       "      display: none;\n",
       "      fill: #1967D2;\n",
       "      height: 32px;\n",
       "      padding: 0 0 0 0;\n",
       "      width: 32px;\n",
       "    }\n",
       "\n",
       "    .colab-df-convert:hover {\n",
       "      background-color: #E2EBFA;\n",
       "      box-shadow: 0px 1px 2px rgba(60, 64, 67, 0.3), 0px 1px 3px 1px rgba(60, 64, 67, 0.15);\n",
       "      fill: #174EA6;\n",
       "    }\n",
       "\n",
       "    [theme=dark] .colab-df-convert {\n",
       "      background-color: #3B4455;\n",
       "      fill: #D2E3FC;\n",
       "    }\n",
       "\n",
       "    [theme=dark] .colab-df-convert:hover {\n",
       "      background-color: #434B5C;\n",
       "      box-shadow: 0px 1px 3px 1px rgba(0, 0, 0, 0.15);\n",
       "      filter: drop-shadow(0px 1px 2px rgba(0, 0, 0, 0.3));\n",
       "      fill: #FFFFFF;\n",
       "    }\n",
       "  </style>\n",
       "\n",
       "      <script>\n",
       "        const buttonEl =\n",
       "          document.querySelector('#df-a24eff4c-9478-4776-8858-35205d975ca5 button.colab-df-convert');\n",
       "        buttonEl.style.display =\n",
       "          google.colab.kernel.accessAllowed ? 'block' : 'none';\n",
       "\n",
       "        async function convertToInteractive(key) {\n",
       "          const element = document.querySelector('#df-a24eff4c-9478-4776-8858-35205d975ca5');\n",
       "          const dataTable =\n",
       "            await google.colab.kernel.invokeFunction('convertToInteractive',\n",
       "                                                     [key], {});\n",
       "          if (!dataTable) return;\n",
       "\n",
       "          const docLinkHtml = 'Like what you see? Visit the ' +\n",
       "            '<a target=\"_blank\" href=https://colab.research.google.com/notebooks/data_table.ipynb>data table notebook</a>'\n",
       "            + ' to learn more about interactive tables.';\n",
       "          element.innerHTML = '';\n",
       "          dataTable['output_type'] = 'display_data';\n",
       "          await google.colab.output.renderOutput(dataTable, element);\n",
       "          const docLink = document.createElement('div');\n",
       "          docLink.innerHTML = docLinkHtml;\n",
       "          element.appendChild(docLink);\n",
       "        }\n",
       "      </script>\n",
       "    </div>\n",
       "  </div>\n",
       "  "
      ],
      "text/plain": [
       "                                                Text  Class\n",
       "0  [المكان, كتير, حلو, اكله, الحمدله, منيح, عادي,...      1\n",
       "1  [المطعم, زرته, ول, مره, مبارح, علي, بوفيه, الف...      1\n",
       "2  [سناكاته, زاكيه, سعره, سعر, السوق, احلي, ما, ف...      1\n",
       "3  [بهارات, البروستد, كتير, ميزه, ومش, ناقصها, اش...      1\n",
       "4  [هاد, الفرع, مش, تابع, لشاورما, الريم, الاصلي,...      0"
      ]
     },
     "execution_count": 13,
     "metadata": {},
     "output_type": "execute_result"
    }
   ],
   "source": [
    "# Tokenization (splitting each instance from a sentence into words)\n",
    "df['Text'] = df['Text'].apply(word_tokenize)\n",
    "df.head(5)"
   ]
  },
  {
   "cell_type": "markdown",
   "metadata": {
    "id": "bU3ZorRqU77o"
   },
   "source": [
    "### Stop words removal from text."
   ]
  },
  {
   "cell_type": "code",
   "execution_count": 14,
   "metadata": {
    "colab": {
     "base_uri": "https://localhost:8080/",
     "height": 206
    },
    "id": "5Dh6KsP7TbYr",
    "outputId": "33ffb1cf-7dcc-4cd0-ba74-c1645a298bb5"
   },
   "outputs": [
    {
     "data": {
      "text/html": [
       "\n",
       "  <div id=\"df-5c94170f-602d-40d7-9ef6-9806b2e8a9f9\">\n",
       "    <div class=\"colab-df-container\">\n",
       "      <div>\n",
       "<style scoped>\n",
       "    .dataframe tbody tr th:only-of-type {\n",
       "        vertical-align: middle;\n",
       "    }\n",
       "\n",
       "    .dataframe tbody tr th {\n",
       "        vertical-align: top;\n",
       "    }\n",
       "\n",
       "    .dataframe thead th {\n",
       "        text-align: right;\n",
       "    }\n",
       "</style>\n",
       "<table border=\"1\" class=\"dataframe\">\n",
       "  <thead>\n",
       "    <tr style=\"text-align: right;\">\n",
       "      <th></th>\n",
       "      <th>Text</th>\n",
       "      <th>Class</th>\n",
       "    </tr>\n",
       "  </thead>\n",
       "  <tbody>\n",
       "    <tr>\n",
       "      <th>0</th>\n",
       "      <td>المكان كتير حلو اكله الحمدله منيح عادي وفي اشي...</td>\n",
       "      <td>1</td>\n",
       "    </tr>\n",
       "    <tr>\n",
       "      <th>1</th>\n",
       "      <td>المطعم زرته ول مره مبارح علي بوفيه الفطور الرم...</td>\n",
       "      <td>1</td>\n",
       "    </tr>\n",
       "    <tr>\n",
       "      <th>2</th>\n",
       "      <td>سناكاته زاكيه سعره سعر السوق احلي الموضوع انه ...</td>\n",
       "      <td>1</td>\n",
       "    </tr>\n",
       "    <tr>\n",
       "      <th>3</th>\n",
       "      <td>بهارات البروستد كتير ميزه ومش ناقصها اشي والاك...</td>\n",
       "      <td>1</td>\n",
       "    </tr>\n",
       "    <tr>\n",
       "      <th>4</th>\n",
       "      <td>هاد الفرع مش تابع لشاورما الريم الاصلي فروع شا...</td>\n",
       "      <td>0</td>\n",
       "    </tr>\n",
       "  </tbody>\n",
       "</table>\n",
       "</div>\n",
       "      <button class=\"colab-df-convert\" onclick=\"convertToInteractive('df-5c94170f-602d-40d7-9ef6-9806b2e8a9f9')\"\n",
       "              title=\"Convert this dataframe to an interactive table.\"\n",
       "              style=\"display:none;\">\n",
       "        \n",
       "  <svg xmlns=\"http://www.w3.org/2000/svg\" height=\"24px\"viewBox=\"0 0 24 24\"\n",
       "       width=\"24px\">\n",
       "    <path d=\"M0 0h24v24H0V0z\" fill=\"none\"/>\n",
       "    <path d=\"M18.56 5.44l.94 2.06.94-2.06 2.06-.94-2.06-.94-.94-2.06-.94 2.06-2.06.94zm-11 1L8.5 8.5l.94-2.06 2.06-.94-2.06-.94L8.5 2.5l-.94 2.06-2.06.94zm10 10l.94 2.06.94-2.06 2.06-.94-2.06-.94-.94-2.06-.94 2.06-2.06.94z\"/><path d=\"M17.41 7.96l-1.37-1.37c-.4-.4-.92-.59-1.43-.59-.52 0-1.04.2-1.43.59L10.3 9.45l-7.72 7.72c-.78.78-.78 2.05 0 2.83L4 21.41c.39.39.9.59 1.41.59.51 0 1.02-.2 1.41-.59l7.78-7.78 2.81-2.81c.8-.78.8-2.07 0-2.86zM5.41 20L4 18.59l7.72-7.72 1.47 1.35L5.41 20z\"/>\n",
       "  </svg>\n",
       "      </button>\n",
       "      \n",
       "  <style>\n",
       "    .colab-df-container {\n",
       "      display:flex;\n",
       "      flex-wrap:wrap;\n",
       "      gap: 12px;\n",
       "    }\n",
       "\n",
       "    .colab-df-convert {\n",
       "      background-color: #E8F0FE;\n",
       "      border: none;\n",
       "      border-radius: 50%;\n",
       "      cursor: pointer;\n",
       "      display: none;\n",
       "      fill: #1967D2;\n",
       "      height: 32px;\n",
       "      padding: 0 0 0 0;\n",
       "      width: 32px;\n",
       "    }\n",
       "\n",
       "    .colab-df-convert:hover {\n",
       "      background-color: #E2EBFA;\n",
       "      box-shadow: 0px 1px 2px rgba(60, 64, 67, 0.3), 0px 1px 3px 1px rgba(60, 64, 67, 0.15);\n",
       "      fill: #174EA6;\n",
       "    }\n",
       "\n",
       "    [theme=dark] .colab-df-convert {\n",
       "      background-color: #3B4455;\n",
       "      fill: #D2E3FC;\n",
       "    }\n",
       "\n",
       "    [theme=dark] .colab-df-convert:hover {\n",
       "      background-color: #434B5C;\n",
       "      box-shadow: 0px 1px 3px 1px rgba(0, 0, 0, 0.15);\n",
       "      filter: drop-shadow(0px 1px 2px rgba(0, 0, 0, 0.3));\n",
       "      fill: #FFFFFF;\n",
       "    }\n",
       "  </style>\n",
       "\n",
       "      <script>\n",
       "        const buttonEl =\n",
       "          document.querySelector('#df-5c94170f-602d-40d7-9ef6-9806b2e8a9f9 button.colab-df-convert');\n",
       "        buttonEl.style.display =\n",
       "          google.colab.kernel.accessAllowed ? 'block' : 'none';\n",
       "\n",
       "        async function convertToInteractive(key) {\n",
       "          const element = document.querySelector('#df-5c94170f-602d-40d7-9ef6-9806b2e8a9f9');\n",
       "          const dataTable =\n",
       "            await google.colab.kernel.invokeFunction('convertToInteractive',\n",
       "                                                     [key], {});\n",
       "          if (!dataTable) return;\n",
       "\n",
       "          const docLinkHtml = 'Like what you see? Visit the ' +\n",
       "            '<a target=\"_blank\" href=https://colab.research.google.com/notebooks/data_table.ipynb>data table notebook</a>'\n",
       "            + ' to learn more about interactive tables.';\n",
       "          element.innerHTML = '';\n",
       "          dataTable['output_type'] = 'display_data';\n",
       "          await google.colab.output.renderOutput(dataTable, element);\n",
       "          const docLink = document.createElement('div');\n",
       "          docLink.innerHTML = docLinkHtml;\n",
       "          element.appendChild(docLink);\n",
       "        }\n",
       "      </script>\n",
       "    </div>\n",
       "  </div>\n",
       "  "
      ],
      "text/plain": [
       "                                                Text  Class\n",
       "0  المكان كتير حلو اكله الحمدله منيح عادي وفي اشي...      1\n",
       "1  المطعم زرته ول مره مبارح علي بوفيه الفطور الرم...      1\n",
       "2  سناكاته زاكيه سعره سعر السوق احلي الموضوع انه ...      1\n",
       "3  بهارات البروستد كتير ميزه ومش ناقصها اشي والاك...      1\n",
       "4  هاد الفرع مش تابع لشاورما الريم الاصلي فروع شا...      0"
      ]
     },
     "execution_count": 14,
     "metadata": {},
     "output_type": "execute_result"
    }
   ],
   "source": [
    "# Removing stop words (words that will not affect the categorizatio of the reviews)\n",
    "stop_words = set(stopwords.words('arabic'))\n",
    "df['Text'] = df['Text'].apply(lambda x: \" \".join(i for i in x if i not in stop_words))\n",
    "df.head(5)"
   ]
  },
  {
   "cell_type": "markdown",
   "metadata": {
    "id": "A0mvNYPWU_Ve"
   },
   "source": [
    "### Text stemming."
   ]
  },
  {
   "cell_type": "code",
   "execution_count": 15,
   "metadata": {
    "colab": {
     "base_uri": "https://localhost:8080/",
     "height": 206
    },
    "id": "X-qyVSSJT5UF",
    "outputId": "11c2a902-6894-4d60-ebde-1684d4f4c6b2"
   },
   "outputs": [
    {
     "data": {
      "text/html": [
       "\n",
       "  <div id=\"df-260dd0e1-8d3b-44d0-9c5c-63339d18e178\">\n",
       "    <div class=\"colab-df-container\">\n",
       "      <div>\n",
       "<style scoped>\n",
       "    .dataframe tbody tr th:only-of-type {\n",
       "        vertical-align: middle;\n",
       "    }\n",
       "\n",
       "    .dataframe tbody tr th {\n",
       "        vertical-align: top;\n",
       "    }\n",
       "\n",
       "    .dataframe thead th {\n",
       "        text-align: right;\n",
       "    }\n",
       "</style>\n",
       "<table border=\"1\" class=\"dataframe\">\n",
       "  <thead>\n",
       "    <tr style=\"text-align: right;\">\n",
       "      <th></th>\n",
       "      <th>Text</th>\n",
       "      <th>Class</th>\n",
       "    </tr>\n",
       "  </thead>\n",
       "  <tbody>\n",
       "    <tr>\n",
       "      <th>0</th>\n",
       "      <td>المك كتير حلو اكل حمدله منيح عاد وف اش كان طيب</td>\n",
       "      <td>1</td>\n",
       "    </tr>\n",
       "    <tr>\n",
       "      <th>1</th>\n",
       "      <td>مطعم زرت ول مره مبارح عل بوف فطور رمضان المك ن...</td>\n",
       "      <td>1</td>\n",
       "    </tr>\n",
       "    <tr>\n",
       "      <th>2</th>\n",
       "      <td>سناك زاك سعر سعر سوق احل موضوع انه خدم توصيل</td>\n",
       "      <td>1</td>\n",
       "    </tr>\n",
       "    <tr>\n",
       "      <th>3</th>\n",
       "      <td>هار بروستد كتير ميز ومش ناقص اش اكل مستو منيح ...</td>\n",
       "      <td>1</td>\n",
       "    </tr>\n",
       "    <tr>\n",
       "      <th>4</th>\n",
       "      <td>هاد فرع مش تابع شاورم ريم اصل روع شاورم ريم مع...</td>\n",
       "      <td>0</td>\n",
       "    </tr>\n",
       "  </tbody>\n",
       "</table>\n",
       "</div>\n",
       "      <button class=\"colab-df-convert\" onclick=\"convertToInteractive('df-260dd0e1-8d3b-44d0-9c5c-63339d18e178')\"\n",
       "              title=\"Convert this dataframe to an interactive table.\"\n",
       "              style=\"display:none;\">\n",
       "        \n",
       "  <svg xmlns=\"http://www.w3.org/2000/svg\" height=\"24px\"viewBox=\"0 0 24 24\"\n",
       "       width=\"24px\">\n",
       "    <path d=\"M0 0h24v24H0V0z\" fill=\"none\"/>\n",
       "    <path d=\"M18.56 5.44l.94 2.06.94-2.06 2.06-.94-2.06-.94-.94-2.06-.94 2.06-2.06.94zm-11 1L8.5 8.5l.94-2.06 2.06-.94-2.06-.94L8.5 2.5l-.94 2.06-2.06.94zm10 10l.94 2.06.94-2.06 2.06-.94-2.06-.94-.94-2.06-.94 2.06-2.06.94z\"/><path d=\"M17.41 7.96l-1.37-1.37c-.4-.4-.92-.59-1.43-.59-.52 0-1.04.2-1.43.59L10.3 9.45l-7.72 7.72c-.78.78-.78 2.05 0 2.83L4 21.41c.39.39.9.59 1.41.59.51 0 1.02-.2 1.41-.59l7.78-7.78 2.81-2.81c.8-.78.8-2.07 0-2.86zM5.41 20L4 18.59l7.72-7.72 1.47 1.35L5.41 20z\"/>\n",
       "  </svg>\n",
       "      </button>\n",
       "      \n",
       "  <style>\n",
       "    .colab-df-container {\n",
       "      display:flex;\n",
       "      flex-wrap:wrap;\n",
       "      gap: 12px;\n",
       "    }\n",
       "\n",
       "    .colab-df-convert {\n",
       "      background-color: #E8F0FE;\n",
       "      border: none;\n",
       "      border-radius: 50%;\n",
       "      cursor: pointer;\n",
       "      display: none;\n",
       "      fill: #1967D2;\n",
       "      height: 32px;\n",
       "      padding: 0 0 0 0;\n",
       "      width: 32px;\n",
       "    }\n",
       "\n",
       "    .colab-df-convert:hover {\n",
       "      background-color: #E2EBFA;\n",
       "      box-shadow: 0px 1px 2px rgba(60, 64, 67, 0.3), 0px 1px 3px 1px rgba(60, 64, 67, 0.15);\n",
       "      fill: #174EA6;\n",
       "    }\n",
       "\n",
       "    [theme=dark] .colab-df-convert {\n",
       "      background-color: #3B4455;\n",
       "      fill: #D2E3FC;\n",
       "    }\n",
       "\n",
       "    [theme=dark] .colab-df-convert:hover {\n",
       "      background-color: #434B5C;\n",
       "      box-shadow: 0px 1px 3px 1px rgba(0, 0, 0, 0.15);\n",
       "      filter: drop-shadow(0px 1px 2px rgba(0, 0, 0, 0.3));\n",
       "      fill: #FFFFFF;\n",
       "    }\n",
       "  </style>\n",
       "\n",
       "      <script>\n",
       "        const buttonEl =\n",
       "          document.querySelector('#df-260dd0e1-8d3b-44d0-9c5c-63339d18e178 button.colab-df-convert');\n",
       "        buttonEl.style.display =\n",
       "          google.colab.kernel.accessAllowed ? 'block' : 'none';\n",
       "\n",
       "        async function convertToInteractive(key) {\n",
       "          const element = document.querySelector('#df-260dd0e1-8d3b-44d0-9c5c-63339d18e178');\n",
       "          const dataTable =\n",
       "            await google.colab.kernel.invokeFunction('convertToInteractive',\n",
       "                                                     [key], {});\n",
       "          if (!dataTable) return;\n",
       "\n",
       "          const docLinkHtml = 'Like what you see? Visit the ' +\n",
       "            '<a target=\"_blank\" href=https://colab.research.google.com/notebooks/data_table.ipynb>data table notebook</a>'\n",
       "            + ' to learn more about interactive tables.';\n",
       "          element.innerHTML = '';\n",
       "          dataTable['output_type'] = 'display_data';\n",
       "          await google.colab.output.renderOutput(dataTable, element);\n",
       "          const docLink = document.createElement('div');\n",
       "          docLink.innerHTML = docLinkHtml;\n",
       "          element.appendChild(docLink);\n",
       "        }\n",
       "      </script>\n",
       "    </div>\n",
       "  </div>\n",
       "  "
      ],
      "text/plain": [
       "                                                Text  Class\n",
       "0     المك كتير حلو اكل حمدله منيح عاد وف اش كان طيب      1\n",
       "1  مطعم زرت ول مره مبارح عل بوف فطور رمضان المك ن...      1\n",
       "2       سناك زاك سعر سعر سوق احل موضوع انه خدم توصيل      1\n",
       "3  هار بروستد كتير ميز ومش ناقص اش اكل مستو منيح ...      1\n",
       "4  هاد فرع مش تابع شاورم ريم اصل روع شاورم ريم مع...      0"
      ]
     },
     "execution_count": 15,
     "metadata": {},
     "output_type": "execute_result"
    }
   ],
   "source": [
    "# Applying Stemming (returning words to their roots)\n",
    "from nltk.stem.snowball import SnowballStemmer\n",
    "stemmer = SnowballStemmer(\"arabic\")\n",
    "df['Text'] = df['Text'].apply(lambda x: ' '.join([stemmer.stem(y) for y in x.split()]))\n",
    "df.head(5)"
   ]
  },
  {
   "cell_type": "markdown",
   "metadata": {
    "id": "-i6bWMi8VJ1c"
   },
   "source": [
    "## 2- Feature extraction from text."
   ]
  },
  {
   "cell_type": "code",
   "execution_count": 16,
   "metadata": {
    "colab": {
     "base_uri": "https://localhost:8080/",
     "height": 35
    },
    "id": "9Ur3tiRzVQqb",
    "outputId": "6e502e06-3f7a-42a9-b090-7d184a0650af"
   },
   "outputs": [
    {
     "data": {
      "application/vnd.google.colaboratory.intrinsic+json": {
       "type": "string"
      },
      "text/plain": [
       "'المك كتير حلو اكل حمدله منيح عاد وف اش كان طيب'"
      ]
     },
     "execution_count": 16,
     "metadata": {},
     "output_type": "execute_result"
    }
   ],
   "source": [
    "# Storing the text column from the dataset into a list\n",
    "text_list = df['Text'].tolist()\n",
    "text_list[0]"
   ]
  },
  {
   "cell_type": "code",
   "execution_count": 17,
   "metadata": {
    "colab": {
     "base_uri": "https://localhost:8080/"
    },
    "id": "mK_IkX4YWNw_",
    "outputId": "57c003c2-f96b-4da7-855c-19b3e690b987"
   },
   "outputs": [
    {
     "name": "stdout",
     "output_type": "stream",
     "text": [
      "[0 0 0 ... 0 0 2]\n"
     ]
    }
   ],
   "source": [
    "# Storing the class column from the dataset into a list\n",
    "counter = Counter(df['Class'].tolist())\n",
    "top_10_varieties = {i[0]: idx for idx, i in enumerate(counter.most_common())}\n",
    "df[df['Class'].map(lambda x: x in top_10_varieties)]\n",
    "varietal_list = [top_10_varieties[i] for i in df['Class'].tolist()]\n",
    "varietal_list = np.array(varietal_list)\n",
    "print(varietal_list)"
   ]
  },
  {
   "cell_type": "code",
   "execution_count": 18,
   "metadata": {
    "id": "equwCye_Vkpn"
   },
   "outputs": [],
   "source": [
    "# Applying CountVectorizer to text data\n",
    "# CountVectorizer creates a matrix in which each unique word is represented by  a column of the matrix,\n",
    "# and each text sample from the document is a row in the matrix.\n",
    "count_vect = CountVectorizer()\n",
    "x_train_counts = count_vect.fit_transform(text_list)"
   ]
  },
  {
   "cell_type": "code",
   "execution_count": 19,
   "metadata": {
    "id": "GVgQNKs6Vwj7"
   },
   "outputs": [],
   "source": [
    "# Calculating tf-idf to text data \n",
    "# It can be defined as the calculation of how relevant a word in a series or corpus is to a text.\n",
    "tfidf_transformer = TfidfTransformer()\n",
    "x_train_tfidf = tfidf_transformer.fit_transform(x_train_counts)"
   ]
  },
  {
   "cell_type": "markdown",
   "metadata": {
    "id": "9b-wrZMtY7ot"
   },
   "source": [
    "### Classes over sampling"
   ]
  },
  {
   "cell_type": "markdown",
   "metadata": {
    "id": "-DCbnivfY_81"
   },
   "source": [
    "As seen in the preprocessing section, the classes were imbalanced, now after text data is transformed into structured data, it can be balanced by usin the below oversampling method."
   ]
  },
  {
   "cell_type": "code",
   "execution_count": 20,
   "metadata": {
    "colab": {
     "base_uri": "https://localhost:8080/"
    },
    "id": "gItogyvlXMyJ",
    "outputId": "9ba158e7-971e-4860-d2e6-8308cf2bb2ea"
   },
   "outputs": [
    {
     "name": "stdout",
     "output_type": "stream",
     "text": [
      "Original dataset shape Counter({0: 1884, 1: 347, 2: 250})\n",
      "Resampled dataset shape Counter({0: 1884, 2: 1884, 1: 1884})\n"
     ]
    }
   ],
   "source": [
    "# Random Over Sampler method to over sample the dataset\n",
    "from imblearn.over_sampling import RandomOverSampler \n",
    "print('Original dataset shape %s' % Counter(varietal_list))\n",
    "ros = RandomOverSampler(random_state=42)\n",
    "X_res, y_res = ros.fit_resample(x_train_tfidf, varietal_list)\n",
    "print('Resampled dataset shape %s' % Counter(y_res))"
   ]
  },
  {
   "cell_type": "markdown",
   "metadata": {
    "id": "5ZAwb8buZSGY"
   },
   "source": [
    "## 3- Modelling."
   ]
  },
  {
   "cell_type": "markdown",
   "metadata": {
    "id": "pb2P8sDG1T__"
   },
   "source": [
    "### Categorizing the reviews using Naive Bayes model."
   ]
  },
  {
   "cell_type": "code",
   "execution_count": 21,
   "metadata": {
    "id": "DtiAcvefV5we"
   },
   "outputs": [],
   "source": [
    "# Splitting the dataset into training and testing datasets\n",
    "from sklearn.model_selection import train_test_split\n",
    "train_x, test_x, train_y, test_y = train_test_split(X_res, y_res, test_size = 0.3)"
   ]
  },
  {
   "cell_type": "code",
   "execution_count": 22,
   "metadata": {
    "id": "glq5Ff7uWflj"
   },
   "outputs": [],
   "source": [
    "# Using naive bayes model to classify the reviews\n",
    "from sklearn.naive_bayes import MultinomialNB\n",
    "clf = MultinomialNB().fit(train_x, train_y)\n",
    "y_pred = clf.predict(test_x)"
   ]
  },
  {
   "cell_type": "code",
   "execution_count": 23,
   "metadata": {
    "colab": {
     "base_uri": "https://localhost:8080/"
    },
    "id": "7rqhfFjg8iVT",
    "outputId": "00a5aab2-c103-4f40-ab3a-0ab0dbe7ac2f"
   },
   "outputs": [
    {
     "data": {
      "text/plain": [
       "array([1, 1, 2, ..., 1, 0, 1])"
      ]
     },
     "execution_count": 23,
     "metadata": {},
     "output_type": "execute_result"
    }
   ],
   "source": [
    "# Making sure of the diversity of the labels of y_pred\n",
    "y_pred"
   ]
  },
  {
   "cell_type": "markdown",
   "metadata": {
    "id": "nH_d000laB5u"
   },
   "source": [
    "### Evaluation of the Naive Bayes model."
   ]
  },
  {
   "cell_type": "code",
   "execution_count": 24,
   "metadata": {
    "id": "_CC9Te76Abla"
   },
   "outputs": [],
   "source": [
    "# Importing scikit-learn modules for performance measuring\n",
    "from sklearn import metrics\n",
    "from sklearn.metrics import precision_score\n",
    "from sklearn.metrics import recall_score\n",
    "from sklearn.metrics import f1_score\n",
    "from sklearn.metrics import roc_auc_score\n",
    "\n",
    "# Accuracy is the ratio of correctly predicted samples to the total number of samples. It measures the overall performance of the model.\n",
    "\n",
    "# Precision is the ratio of correctly predicted positive samples to the total number of positive samples predicted by the model.\n",
    "# It measures the ability of the model to correctly predict positive samples.\n",
    "\n",
    "# Recall is the ratio of correctly predicted positive samples to the total number of actual positive samples.\n",
    "# It measures the ability of the model to find all the positive samples.\n",
    "\n",
    "# F1-score is the harmonic mean of precision and recall. It is a balanced metric that takes into account both precision and recall.\n",
    "\n",
    "# ROC-AUC is a plot of the true positive rate against the false positive rate.\n",
    "# The area under the ROC curve (AUC) is a measure of the overall performance of the model,\n",
    "# with a value of 1 indicating a perfect classifier and 0.5 indicating a random classifier.\n",
    "\n",
    "acc1 = metrics.accuracy_score(test_y, y_pred)\n",
    "p1 = precision_score(test_y, y_pred, average='micro')\n",
    "r1 = recall_score(test_y, y_pred, average='micro')\n",
    "f1 = f1_score(test_y, y_pred, average='micro')\n",
    "roc_auc_1 = roc_auc_score(y_res, clf.predict_proba(X_res), multi_class='ovr')"
   ]
  },
  {
   "cell_type": "code",
   "execution_count": 25,
   "metadata": {
    "colab": {
     "base_uri": "https://localhost:8080/"
    },
    "id": "or906MkDBE8p",
    "outputId": "5feb2e34-4a55-4fe4-d952-db839c086293"
   },
   "outputs": [
    {
     "name": "stdout",
     "output_type": "stream",
     "text": [
      "0.9433962264150944   0.9433962264150944   0.9433962264150944   0.9433962264150944   0.9976722724083165\n"
     ]
    }
   ],
   "source": [
    "print(acc1, \" \", p1, \" \", r1, \" \", f1, \" \", roc_auc_1)"
   ]
  },
  {
   "cell_type": "markdown",
   "metadata": {
    "id": "8nx3xoY8b16V"
   },
   "source": [
    "The naive bayes is a probabilistic algorithm, it relies on randomness in certain parts of its process, such as in the initialization of the model parameters. Therefore, if the algorithm is run multiple times, it may produce slightly different results each time due to this randomness. That's why, it will be repeated 30 times, and the average performance measures will be considered for the model evaluation."
   ]
  },
  {
   "cell_type": "code",
   "execution_count": 26,
   "metadata": {
    "id": "Z6oha6URBxJF"
   },
   "outputs": [],
   "source": [
    "a_list = []\n",
    "p_list = []\n",
    "r_list = []\n",
    "f_list = []\n",
    "ro_list = []"
   ]
  },
  {
   "cell_type": "code",
   "execution_count": 27,
   "metadata": {
    "colab": {
     "base_uri": "https://localhost:8080/"
    },
    "id": "s5eLiGPNBW4u",
    "outputId": "d6dac13f-93c5-42a4-c398-cebf5ae4565f"
   },
   "outputs": [
    {
     "name": "stdout",
     "output_type": "stream",
     "text": [
      "Accuracy: 0.9468553459119498\n",
      "Precision: 0.9468553459119498\n",
      "Recall: 0.9468553459119498\n",
      "F1 score: 0.9468553459119498\n",
      "AUC-ROC curve score: 0.9975809516851157\n"
     ]
    }
   ],
   "source": [
    "# Repeating 29 times\n",
    "for i in range(29):\n",
    "  train_x, test_x, train_y, test_y = train_test_split(X_res, y_res, test_size = 0.3)\n",
    "  clf = MultinomialNB().fit(train_x, train_y)\n",
    "  y_pred=clf.predict(test_x)\n",
    "  acc_t = metrics.accuracy_score(test_y, y_pred)\n",
    "  p_t = precision_score(test_y, y_pred, average='micro')\n",
    "  r_t = recall_score(test_y, y_pred, average='micro')\n",
    "  f_t = f1_score(test_y, y_pred, average='micro')\n",
    "  roc_auc_t = roc_auc_score(y_res, clf.predict_proba(X_res), multi_class='ovr')\n",
    "  a_list.append(acc_t)\n",
    "  p_list.append(p_t)\n",
    "  r_list.append(r_t)\n",
    "  f_list.append(f_t)\n",
    "  ro_list.append(roc_auc_t)\n",
    "  acc1 = acc1 + acc_t\n",
    "  p1 = p1 + p_t\n",
    "  r1 = r1 + r_t\n",
    "  f1 = f1 + f_t\n",
    "  roc_auc_1 = roc_auc_1 + roc_auc_t\n",
    "\n",
    "acc1 = acc1 / 30\n",
    "p1 = p1 / 30\n",
    "r1 = r1 / 30\n",
    "f1 = f1 / 30\n",
    "roc_auc_1 = roc_auc_1 / 30\n",
    "\n",
    "print(\"Accuracy:\", acc1)\n",
    "print(\"Precision:\", p1)\n",
    "print(\"Recall:\", r1)\n",
    "print(\"F1 score:\", f1)\n",
    "print(\"AUC-ROC curve score:\", roc_auc_1)"
   ]
  },
  {
   "cell_type": "markdown",
   "metadata": {
    "id": "lOGRhaY316Ry"
   },
   "source": [
    "### Categorizing the reviews using Random Forest model."
   ]
  },
  {
   "cell_type": "code",
   "execution_count": 28,
   "metadata": {
    "id": "CsSyPkfi8BV_"
   },
   "outputs": [],
   "source": [
    "# Splitting the dataset into training and validation datasets\n",
    "from sklearn.model_selection import train_test_split\n",
    "train_x, test_x, train_y, test_y = train_test_split(X_res, y_res, test_size = 0.3)"
   ]
  },
  {
   "cell_type": "code",
   "execution_count": 29,
   "metadata": {
    "id": "dtKPYt_b2CZj"
   },
   "outputs": [],
   "source": [
    "from sklearn.ensemble import RandomForestClassifier\n",
    "# Training the random forest model\n",
    "model = RandomForestClassifier(n_estimators=100)\n",
    "model.fit(train_x, train_y)\n",
    "# make predictions on the test data\n",
    "y_pred = model.predict(test_x)"
   ]
  },
  {
   "cell_type": "code",
   "execution_count": 30,
   "metadata": {
    "colab": {
     "base_uri": "https://localhost:8080/"
    },
    "id": "GkBIU5Ih8sTl",
    "outputId": "f52eb815-d3b5-4458-9e9b-7798c581dcbf"
   },
   "outputs": [
    {
     "data": {
      "text/plain": [
       "array([0, 0, 2, ..., 2, 2, 1])"
      ]
     },
     "execution_count": 30,
     "metadata": {},
     "output_type": "execute_result"
    }
   ],
   "source": [
    "# Making sure of the diversity of the labels of y_pred\n",
    "y_pred"
   ]
  },
  {
   "cell_type": "markdown",
   "metadata": {
    "id": "c2dgxVY_4SWA"
   },
   "source": [
    "### Evaluation of the Random Forest model."
   ]
  },
  {
   "cell_type": "code",
   "execution_count": 31,
   "metadata": {
    "id": "fEvf6NR34XJ_"
   },
   "outputs": [],
   "source": [
    "# Importing scikit-learn modules for performance measuring\n",
    "from sklearn import metrics\n",
    "from sklearn.metrics import precision_score\n",
    "from sklearn.metrics import recall_score\n",
    "from sklearn.metrics import f1_score\n",
    "from sklearn.metrics import roc_auc_score\n",
    "acc2 = metrics.accuracy_score(test_y, y_pred)\n",
    "p2 = precision_score(test_y, y_pred, average='micro')\n",
    "r2 = recall_score(test_y, y_pred, average='micro')\n",
    "f2 = f1_score(test_y, y_pred, average='micro')\n",
    "roc_auc_2 = roc_auc_score(y_res, model.predict_proba(X_res), multi_class='ovr')"
   ]
  },
  {
   "cell_type": "code",
   "execution_count": 32,
   "metadata": {
    "colab": {
     "base_uri": "https://localhost:8080/"
    },
    "id": "rNggF-td4hij",
    "outputId": "39698f63-e75b-4ed4-90ff-07bc4e77cb35"
   },
   "outputs": [
    {
     "name": "stdout",
     "output_type": "stream",
     "text": [
      "0.9834905660377359   0.9834905660377359   0.9834905660377359   0.9834905660377359   0.9999451324371961\n"
     ]
    }
   ],
   "source": [
    "print(acc2, \" \", p2, \" \", r2, \" \", f2, \" \", roc_auc_2)"
   ]
  },
  {
   "cell_type": "markdown",
   "metadata": {
    "id": "n7jOBEPH5eRy"
   },
   "source": [
    "Because the prediction is dependent on the likelihood that a certain class would be the correct class for the new instance, random forests are a probabilistic algorithm. Therefore, if the algorithm is run multiple times, it may produce slightly different results each time due to this randomness. That's why, it will be repeated 30 times, and the average performance measures will be considered for the model evaluation."
   ]
  },
  {
   "cell_type": "code",
   "execution_count": 33,
   "metadata": {
    "id": "fhyfFW3_5nhZ"
   },
   "outputs": [],
   "source": [
    "a_list_r = []\n",
    "p_list_r = []\n",
    "r_list_r = []\n",
    "f_list_r = []\n",
    "ro_list_r = []"
   ]
  },
  {
   "cell_type": "code",
   "execution_count": 34,
   "metadata": {
    "colab": {
     "base_uri": "https://localhost:8080/"
    },
    "id": "bEs3XB_O5wUT",
    "outputId": "3768df5a-e255-4b7e-ccd1-8103e324202a"
   },
   "outputs": [
    {
     "name": "stdout",
     "output_type": "stream",
     "text": [
      "Accuracy: 0.9846305031446542\n",
      "Precision: 0.9846305031446542\n",
      "Recall: 0.9846305031446542\n",
      "F1 score: 0.9846305031446542\n",
      "AUC-ROC curve score: 0.999916852673261\n"
     ]
    }
   ],
   "source": [
    "# Repeating 29 times\n",
    "for i in range(29):\n",
    "  train_x, test_x, train_y, test_y = train_test_split(X_res, y_res, test_size = 0.3)\n",
    "  model = RandomForestClassifier()\n",
    "  model.fit(train_x, train_y)\n",
    "  y_pred = model.predict(test_x)\n",
    "  acc_t = metrics.accuracy_score(test_y, y_pred)\n",
    "  p_t = precision_score(test_y, y_pred, average='micro')\n",
    "  r_t = recall_score(test_y, y_pred, average='micro')\n",
    "  f_t = f1_score(test_y, y_pred, average='micro')\n",
    "  roc_auc_t = roc_auc_score(y_res, model.predict_proba(X_res), multi_class='ovr')\n",
    "  a_list_r.append(acc_t)\n",
    "  p_list_r.append(p_t)\n",
    "  r_list_r.append(r_t)\n",
    "  f_list_r.append(f_t)\n",
    "  ro_list_r.append(roc_auc_t)\n",
    "  acc2 = acc2 + acc_t\n",
    "  p2 = p2 + p_t\n",
    "  r2 = r2 + r_t\n",
    "  f2 = f2 + f_t\n",
    "  roc_auc_2 = roc_auc_2 + roc_auc_t\n",
    "\n",
    "acc2 = acc2 / 30\n",
    "p2 = p2 / 30\n",
    "r2 = r2 / 30\n",
    "f2 = f2 / 30\n",
    "roc_auc_2 = roc_auc_2 / 30\n",
    "\n",
    "print(\"Accuracy:\", acc2)\n",
    "print(\"Precision:\", p2)\n",
    "print(\"Recall:\", r2)\n",
    "print(\"F1 score:\", f2)\n",
    "print(\"AUC-ROC curve score:\", roc_auc_2)"
   ]
  },
  {
   "cell_type": "markdown",
   "metadata": {
    "id": "pkxTeU669C3a"
   },
   "source": [
    "As clear from the above, the random forest model performed better in categorizing the reviews than the naive bayes model."
   ]
  },
  {
   "cell_type": "markdown",
   "metadata": {
    "id": "iaAyMCVPaIDc"
   },
   "source": [
    "## 5- Plotting the result of my experiment"
   ]
  },
  {
   "cell_type": "markdown",
   "metadata": {
    "id": "gNIZvHZJ_w_c"
   },
   "source": [
    "### Results of Naive Bayes model "
   ]
  },
  {
   "cell_type": "code",
   "execution_count": 35,
   "metadata": {
    "colab": {
     "base_uri": "https://localhost:8080/",
     "height": 295
    },
    "id": "GmJqFvveaQrZ",
    "outputId": "3d48001c-2f87-4019-b7af-343c5921643f"
   },
   "outputs": [
    {
     "data": {
      "image/png": "[encoded data removed]",
      "text/plain": [
       "<Figure size 432x288 with 1 Axes>"
      ]
     },
     "metadata": {
      "needs_background": "light"
     },
     "output_type": "display_data"
    }
   ],
   "source": [
    "import matplotlib.pyplot as plt\n",
    "s = [a_list, p_list, r_list, f_list, ro_list]\n",
    "l = ['accuracy', 'precision', 'recall', 'f1 score', 'roc_auc score']\n",
    "fig,ax = plt.subplots()\n",
    "for i,lst in enumerate(s): \n",
    "    ax.boxplot(lst,positions=[i])\n",
    "ax.set_xticklabels(l)\n",
    "ax.set_title('Naive Bayes Model to categorize reviews')\n",
    "ax.set_xlabel('Performance measures')\n",
    "ax.set_ylabel('Range')\n",
    "plt.show()"
   ]
  },
  {
   "cell_type": "markdown",
   "metadata": {
    "id": "a2iyTtL0AbIQ"
   },
   "source": [
    "Seperating the roc_auc score from the other performance measures in the plot because its range is high."
   ]
  },
  {
   "cell_type": "code",
   "execution_count": 36,
   "metadata": {
    "colab": {
     "base_uri": "https://localhost:8080/",
     "height": 295
    },
    "id": "37LWbWnMAhsS",
    "outputId": "c0b9e307-9f30-4abe-faa0-d3d58647fb60"
   },
   "outputs": [
    {
     "data": {
      "image/png": "[encoded data removed]",
      "text/plain": [
       "<Figure size 432x288 with 1 Axes>"
      ]
     },
     "metadata": {
      "needs_background": "light"
     },
     "output_type": "display_data"
    }
   ],
   "source": [
    "import matplotlib.pyplot as plt\n",
    "s = [a_list, p_list, r_list, f_list]\n",
    "l = ['accuracy', 'precision', 'recall', 'f1 score']\n",
    "fig,ax = plt.subplots()\n",
    "for i,lst in enumerate(s): \n",
    "    ax.boxplot(lst,positions=[i])\n",
    "ax.set_xticklabels(l)\n",
    "ax.set_title('Naive Bayes Model to categorize reviews')\n",
    "ax.set_xlabel('Performance measures')\n",
    "ax.set_ylabel('Range')\n",
    "plt.show()"
   ]
  },
  {
   "cell_type": "code",
   "execution_count": 37,
   "metadata": {
    "colab": {
     "base_uri": "https://localhost:8080/",
     "height": 295
    },
    "id": "DXNQhjbI390g",
    "outputId": "e56462d0-83c2-48c8-afda-180179ef7eb4"
   },
   "outputs": [
    {
     "data": {
      "image/png": "[encoded data removed]",
      "text/plain": [
       "<Figure size 432x288 with 1 Axes>"
      ]
     },
     "metadata": {
      "needs_background": "light"
     },
     "output_type": "display_data"
    }
   ],
   "source": [
    "import matplotlib.pyplot as plt\n",
    "s = [ro_list]\n",
    "l = ['roc_auc score']\n",
    "fig,ax = plt.subplots()\n",
    "for i,lst in enumerate(s): \n",
    "    ax.boxplot(lst,positions=[i])\n",
    "ax.set_xticklabels(l)\n",
    "ax.set_title('Naive Bayes Model to categorize reviews')\n",
    "ax.set_xlabel('Performance measure')\n",
    "ax.set_ylabel('Range')\n",
    "plt.show()"
   ]
  },
  {
   "cell_type": "markdown",
   "metadata": {
    "id": "47TFU0zm_5F0"
   },
   "source": [
    "### Results of Random Forest model"
   ]
  },
  {
   "cell_type": "code",
   "execution_count": 38,
   "metadata": {
    "colab": {
     "base_uri": "https://localhost:8080/",
     "height": 295
    },
    "id": "aGI7rMAVAouy",
    "outputId": "291d9bfb-ba07-4551-b3e6-b70f2794c94b"
   },
   "outputs": [
    {
     "data": {
      "image/png": "[encoded data removed]",
      "text/plain": [
       "<Figure size 432x288 with 1 Axes>"
      ]
     },
     "metadata": {
      "needs_background": "light"
     },
     "output_type": "display_data"
    }
   ],
   "source": [
    "import matplotlib.pyplot as plt\n",
    "s = [a_list_r, p_list_r, r_list_r, f_list_r, ro_list_r]\n",
    "l = ['accuracy', 'precision', 'recall', 'f1 score', 'roc_auc score']\n",
    "fig,ax = plt.subplots()\n",
    "for i,lst in enumerate(s): \n",
    "    ax.boxplot(lst,positions=[i])\n",
    "ax.set_xticklabels(l)\n",
    "ax.set_title('Random forest Model to categorize reviews')\n",
    "ax.set_xlabel('Performance measures')\n",
    "ax.set_ylabel('Range')\n",
    "plt.show()"
   ]
  },
  {
   "cell_type": "markdown",
   "metadata": {
    "id": "mk_EG6KhBjQm"
   },
   "source": [
    "Seperating the roc_auc score from the other performance measures in the plot because its range is high."
   ]
  },
  {
   "cell_type": "code",
   "execution_count": 39,
   "metadata": {
    "colab": {
     "base_uri": "https://localhost:8080/",
     "height": 295
    },
    "id": "t6zFcpk__8v5",
    "outputId": "01d22608-9386-4991-8933-77fcb367c8ab"
   },
   "outputs": [
    {
     "data": {
      "image/png": "[encoded data removed]",
      "text/plain": [
       "<Figure size 432x288 with 1 Axes>"
      ]
     },
     "metadata": {
      "needs_background": "light"
     },
     "output_type": "display_data"
    }
   ],
   "source": [
    "import matplotlib.pyplot as plt\n",
    "s = [a_list_r, p_list_r, r_list_r, f_list_r]\n",
    "l = ['accuracy', 'precision', 'recall', 'f1 score']\n",
    "fig,ax = plt.subplots()\n",
    "for i,lst in enumerate(s): \n",
    "    ax.boxplot(lst,positions=[i])\n",
    "ax.set_xticklabels(l)\n",
    "ax.set_title('Random Forest Model to categorize reviews')\n",
    "ax.set_xlabel('Performance measures')\n",
    "ax.set_ylabel('Range')\n",
    "plt.show()"
   ]
  },
  {
   "cell_type": "code",
   "execution_count": 54,
   "metadata": {
    "colab": {
     "base_uri": "https://localhost:8080/",
     "height": 295
    },
    "id": "cRApbPTZALaM",
    "outputId": "09746d5c-2d5b-4d74-f412-9025054baa8c"
   },
   "outputs": [
    {
     "data": {
      "image/png": "[encoded data removed]",
      "text/plain": [
       "<Figure size 432x288 with 1 Axes>"
      ]
     },
     "metadata": {
      "needs_background": "light"
     },
     "output_type": "display_data"
    }
   ],
   "source": [
    "import matplotlib.pyplot as plt\n",
    "s = [ro_list_r]\n",
    "l = ['roc_auc score']\n",
    "fig,ax = plt.subplots()\n",
    "for i,lst in enumerate(s): \n",
    "    ax.boxplot(lst,positions=[i])\n",
    "ax.set_xticklabels(l)\n",
    "ax.set_title('Random Forest Model to categorize reviews')\n",
    "ax.set_xlabel('Performance measure')\n",
    "ax.set_ylabel('Range')\n",
    "plt.show()"
   ]
  },
  {
   "cell_type": "markdown",
   "metadata": {
    "id": "aR7nDpnWBrTU"
   },
   "source": [
    "### Naive Bayes vs Random Forest results."
   ]
  },
  {
   "cell_type": "code",
   "execution_count": 41,
   "metadata": {
    "colab": {
     "base_uri": "https://localhost:8080/",
     "height": 578
    },
    "id": "ttHbwWLe-s8z",
    "outputId": "75345ebf-564e-430f-9b43-5fa25fdd2e53"
   },
   "outputs": [
    {
     "data": {
      "image/png": "[encoded data removed]",
      "text/plain": [
       "<Figure size 1080x576 with 1 Axes>"
      ]
     },
     "metadata": {
      "needs_background": "light"
     },
     "output_type": "display_data"
    }
   ],
   "source": [
    "import pandas as pd\n",
    "\n",
    "plotdata = pd.DataFrame({\n",
    "\n",
    "    \"Accuracy\":[acc1, acc2],\n",
    "\n",
    "    \"Precision\":[p1, p2],\n",
    "\n",
    "    \"Recall\":[r1, r2],\n",
    "\n",
    "    \"F1 score\": [f1, f2],\n",
    "    \n",
    "    \"AUC-ROC curve score\": [roc_auc_1, roc_auc_2]},\n",
    "\n",
    "    index = [\"Naive Bayes\", \"Random Forest\"])\n",
    "\n",
    "plotdata.plot(kind=\"bar\",figsize=(15, 8))\n",
    "\n",
    "plt.title(\"Naive Bayes vs Random Forest\")\n",
    "\n",
    "plt.xlabel(\"model\")\n",
    "\n",
    "plt.ylabel(\"performance\")\n",
    "\n",
    "plt.show()"
   ]
  },
  {
   "cell_type": "markdown",
   "metadata": {
    "id": "4VeBIhiFgfVA"
   },
   "source": [
    "## 6- Identifying the relation between words in one review"
   ]
  },
  {
   "cell_type": "code",
   "execution_count": 42,
   "metadata": {
    "id": "2Vgj653RJ9cy"
   },
   "outputs": [],
   "source": [
    "# Importing necessary libraries\n",
    "import networkx as nx\n",
    "import re\n",
    "import string"
   ]
  },
  {
   "cell_type": "code",
   "execution_count": 43,
   "metadata": {
    "colab": {
     "base_uri": "https://localhost:8080/",
     "height": 206
    },
    "id": "EK1fLFkRJ_To",
    "outputId": "bac2d9b4-d135-49da-f000-e10c30d3766c"
   },
   "outputs": [
    {
     "data": {
      "text/html": [
       "\n",
       "  <div id=\"df-7b74c317-83e9-4eda-890d-6ea600852308\">\n",
       "    <div class=\"colab-df-container\">\n",
       "      <div>\n",
       "<style scoped>\n",
       "    .dataframe tbody tr th:only-of-type {\n",
       "        vertical-align: middle;\n",
       "    }\n",
       "\n",
       "    .dataframe tbody tr th {\n",
       "        vertical-align: top;\n",
       "    }\n",
       "\n",
       "    .dataframe thead th {\n",
       "        text-align: right;\n",
       "    }\n",
       "</style>\n",
       "<table border=\"1\" class=\"dataframe\">\n",
       "  <thead>\n",
       "    <tr style=\"text-align: right;\">\n",
       "      <th></th>\n",
       "      <th>Text</th>\n",
       "      <th>Class</th>\n",
       "    </tr>\n",
       "  </thead>\n",
       "  <tbody>\n",
       "    <tr>\n",
       "      <th>0</th>\n",
       "      <td>المكان كتيير حلو اكله الحمدلله منيح عادي وفي ا...</td>\n",
       "      <td>1</td>\n",
       "    </tr>\n",
       "    <tr>\n",
       "      <th>1</th>\n",
       "      <td>المطعم زرته ﻷول مرة مبارح على بوفيه الفطور الر...</td>\n",
       "      <td>1</td>\n",
       "    </tr>\n",
       "    <tr>\n",
       "      <th>2</th>\n",
       "      <td>سناكاته زاكية سعره سعر السوق ..احلى ما في المو...</td>\n",
       "      <td>1</td>\n",
       "    </tr>\n",
       "    <tr>\n",
       "      <th>3</th>\n",
       "      <td>بهارات البروستد كتير مميزة ومش ناقصها اشي , وا...</td>\n",
       "      <td>1</td>\n",
       "    </tr>\n",
       "    <tr>\n",
       "      <th>4</th>\n",
       "      <td>هاد الفرع مش تابع لشاورما الريم الاصلي فروع شا...</td>\n",
       "      <td>0</td>\n",
       "    </tr>\n",
       "  </tbody>\n",
       "</table>\n",
       "</div>\n",
       "      <button class=\"colab-df-convert\" onclick=\"convertToInteractive('df-7b74c317-83e9-4eda-890d-6ea600852308')\"\n",
       "              title=\"Convert this dataframe to an interactive table.\"\n",
       "              style=\"display:none;\">\n",
       "        \n",
       "  <svg xmlns=\"http://www.w3.org/2000/svg\" height=\"24px\"viewBox=\"0 0 24 24\"\n",
       "       width=\"24px\">\n",
       "    <path d=\"M0 0h24v24H0V0z\" fill=\"none\"/>\n",
       "    <path d=\"M18.56 5.44l.94 2.06.94-2.06 2.06-.94-2.06-.94-.94-2.06-.94 2.06-2.06.94zm-11 1L8.5 8.5l.94-2.06 2.06-.94-2.06-.94L8.5 2.5l-.94 2.06-2.06.94zm10 10l.94 2.06.94-2.06 2.06-.94-2.06-.94-.94-2.06-.94 2.06-2.06.94z\"/><path d=\"M17.41 7.96l-1.37-1.37c-.4-.4-.92-.59-1.43-.59-.52 0-1.04.2-1.43.59L10.3 9.45l-7.72 7.72c-.78.78-.78 2.05 0 2.83L4 21.41c.39.39.9.59 1.41.59.51 0 1.02-.2 1.41-.59l7.78-7.78 2.81-2.81c.8-.78.8-2.07 0-2.86zM5.41 20L4 18.59l7.72-7.72 1.47 1.35L5.41 20z\"/>\n",
       "  </svg>\n",
       "      </button>\n",
       "      \n",
       "  <style>\n",
       "    .colab-df-container {\n",
       "      display:flex;\n",
       "      flex-wrap:wrap;\n",
       "      gap: 12px;\n",
       "    }\n",
       "\n",
       "    .colab-df-convert {\n",
       "      background-color: #E8F0FE;\n",
       "      border: none;\n",
       "      border-radius: 50%;\n",
       "      cursor: pointer;\n",
       "      display: none;\n",
       "      fill: #1967D2;\n",
       "      height: 32px;\n",
       "      padding: 0 0 0 0;\n",
       "      width: 32px;\n",
       "    }\n",
       "\n",
       "    .colab-df-convert:hover {\n",
       "      background-color: #E2EBFA;\n",
       "      box-shadow: 0px 1px 2px rgba(60, 64, 67, 0.3), 0px 1px 3px 1px rgba(60, 64, 67, 0.15);\n",
       "      fill: #174EA6;\n",
       "    }\n",
       "\n",
       "    [theme=dark] .colab-df-convert {\n",
       "      background-color: #3B4455;\n",
       "      fill: #D2E3FC;\n",
       "    }\n",
       "\n",
       "    [theme=dark] .colab-df-convert:hover {\n",
       "      background-color: #434B5C;\n",
       "      box-shadow: 0px 1px 3px 1px rgba(0, 0, 0, 0.15);\n",
       "      filter: drop-shadow(0px 1px 2px rgba(0, 0, 0, 0.3));\n",
       "      fill: #FFFFFF;\n",
       "    }\n",
       "  </style>\n",
       "\n",
       "      <script>\n",
       "        const buttonEl =\n",
       "          document.querySelector('#df-7b74c317-83e9-4eda-890d-6ea600852308 button.colab-df-convert');\n",
       "        buttonEl.style.display =\n",
       "          google.colab.kernel.accessAllowed ? 'block' : 'none';\n",
       "\n",
       "        async function convertToInteractive(key) {\n",
       "          const element = document.querySelector('#df-7b74c317-83e9-4eda-890d-6ea600852308');\n",
       "          const dataTable =\n",
       "            await google.colab.kernel.invokeFunction('convertToInteractive',\n",
       "                                                     [key], {});\n",
       "          if (!dataTable) return;\n",
       "\n",
       "          const docLinkHtml = 'Like what you see? Visit the ' +\n",
       "            '<a target=\"_blank\" href=https://colab.research.google.com/notebooks/data_table.ipynb>data table notebook</a>'\n",
       "            + ' to learn more about interactive tables.';\n",
       "          element.innerHTML = '';\n",
       "          dataTable['output_type'] = 'display_data';\n",
       "          await google.colab.output.renderOutput(dataTable, element);\n",
       "          const docLink = document.createElement('div');\n",
       "          docLink.innerHTML = docLinkHtml;\n",
       "          element.appendChild(docLink);\n",
       "        }\n",
       "      </script>\n",
       "    </div>\n",
       "  </div>\n",
       "  "
      ],
      "text/plain": [
       "                                                Text  Class\n",
       "0  المكان كتيير حلو اكله الحمدلله منيح عادي وفي ا...      1\n",
       "1  المطعم زرته ﻷول مرة مبارح على بوفيه الفطور الر...      1\n",
       "2  سناكاته زاكية سعره سعر السوق ..احلى ما في المو...      1\n",
       "3  بهارات البروستد كتير مميزة ومش ناقصها اشي , وا...      1\n",
       "4  هاد الفرع مش تابع لشاورما الريم الاصلي فروع شا...      0"
      ]
     },
     "execution_count": 43,
     "metadata": {},
     "output_type": "execute_result"
    }
   ],
   "source": [
    "# Importing the dataset again\n",
    "df = pd.read_csv(\"reviews.csv\", encoding= 'utf-8')\n",
    "df.head(5)"
   ]
  },
  {
   "cell_type": "code",
   "execution_count": 44,
   "metadata": {
    "colab": {
     "base_uri": "https://localhost:8080/",
     "height": 35
    },
    "id": "wcAnWPXUKBgJ",
    "outputId": "bf698336-906a-4502-e2df-d4955f465baf"
   },
   "outputs": [
    {
     "data": {
      "application/vnd.google.colaboratory.intrinsic+json": {
       "type": "string"
      },
      "text/plain": [
       "'المكان كتيير حلو اكله الحمدلله منيح عادي وفي اشيا ما كانت طيبه '"
      ]
     },
     "execution_count": 44,
     "metadata": {},
     "output_type": "execute_result"
    }
   ],
   "source": [
    "# Defining a review sentence\n",
    "sentence = df['Text'][0]\n",
    "sentence"
   ]
  },
  {
   "cell_type": "code",
   "execution_count": 45,
   "metadata": {
    "colab": {
     "base_uri": "https://localhost:8080/",
     "height": 35
    },
    "id": "wrdbnQ_qKDqa",
    "outputId": "bbad2c94-b7f1-4452-a66a-52ee01a2123c"
   },
   "outputs": [
    {
     "data": {
      "application/vnd.google.colaboratory.intrinsic+json": {
       "type": "string"
      },
      "text/plain": [
       "'المكان كتير حلو اكله الحمدله منيح عادي وفي اشيا ما كانت طيبه'"
      ]
     },
     "execution_count": 45,
     "metadata": {},
     "output_type": "execute_result"
    }
   ],
   "source": [
    "# Cleaning the text without stemming\n",
    "# Applying the cleaning function created earlier on the text\n",
    "sentence = clean_feedback(df['Text'][0])\n",
    "sentence = sentence.strip()\n",
    "sentence"
   ]
  },
  {
   "cell_type": "code",
   "execution_count": 46,
   "metadata": {
    "colab": {
     "base_uri": "https://localhost:8080/"
    },
    "id": "eZiNP7R6KGIq",
    "outputId": "5d69a483-854f-4696-d7cb-9ac2178edbf0"
   },
   "outputs": [
    {
     "data": {
      "text/plain": [
       "['المكان',\n",
       " 'كتير',\n",
       " 'حلو',\n",
       " 'اكله',\n",
       " 'الحمدله',\n",
       " 'منيح',\n",
       " 'عادي',\n",
       " 'وفي',\n",
       " 'اشيا',\n",
       " 'ما',\n",
       " 'كانت',\n",
       " 'طيبه']"
      ]
     },
     "execution_count": 46,
     "metadata": {},
     "output_type": "execute_result"
    }
   ],
   "source": [
    "# Splitting the sentence into words\n",
    "sentence = sentence.split(\" \")\n",
    "sentence"
   ]
  },
  {
   "cell_type": "code",
   "execution_count": 47,
   "metadata": {
    "colab": {
     "base_uri": "https://localhost:8080/"
    },
    "id": "FEINSLUYKIW-",
    "outputId": "d2cf2b95-fc06-4f79-a8a7-2be24913fa94"
   },
   "outputs": [
    {
     "name": "stdout",
     "output_type": "stream",
     "text": [
      "Looking in indexes: https://pypi.org/simple, https://us-python.pkg.dev/colab-wheels/public/simple/\n",
      "Collecting arabic-reshaper\n",
      "  Downloading arabic_reshaper-3.0.0-py3-none-any.whl (20 kB)\n",
      "Installing collected packages: arabic-reshaper\n",
      "Successfully installed arabic-reshaper-3.0.0\n"
     ]
    }
   ],
   "source": [
    "pip install arabic-reshaper"
   ]
  },
  {
   "cell_type": "code",
   "execution_count": 48,
   "metadata": {
    "colab": {
     "base_uri": "https://localhost:8080/"
    },
    "id": "D1kUQJGrKKKT",
    "outputId": "e601149b-ade6-4af9-dba6-225abb87520b"
   },
   "outputs": [
    {
     "name": "stdout",
     "output_type": "stream",
     "text": [
      "Looking in indexes: https://pypi.org/simple, https://us-python.pkg.dev/colab-wheels/public/simple/\n",
      "Collecting python-bidi\n",
      "  Downloading python_bidi-0.4.2-py2.py3-none-any.whl (30 kB)\n",
      "Requirement already satisfied: six in /usr/local/lib/python3.8/dist-packages (from python-bidi) (1.15.0)\n",
      "Installing collected packages: python-bidi\n",
      "Successfully installed python-bidi-0.4.2\n"
     ]
    }
   ],
   "source": [
    "pip install python-bidi"
   ]
  },
  {
   "cell_type": "code",
   "execution_count": 49,
   "metadata": {
    "id": "8hZDLEKCKMMN"
   },
   "outputs": [],
   "source": [
    "from bidi.algorithm import get_display\n",
    "import matplotlib.pyplot as plt\n",
    "import arabic_reshaper\n",
    "import networkx as nx\n",
    "# Arabic text preprocessing \n",
    "l = []\n",
    "for word in sentence:\n",
    "  reshaped_text = arabic_reshaper.reshape(word)\n",
    "  artext = get_display(reshaped_text)\n",
    "  l.append(artext)"
   ]
  },
  {
   "cell_type": "code",
   "execution_count": 50,
   "metadata": {
    "id": "O01-jk0FKQrs"
   },
   "outputs": [],
   "source": [
    "# Creating an empty graph\n",
    "G = nx.Graph()"
   ]
  },
  {
   "cell_type": "code",
   "execution_count": 51,
   "metadata": {
    "id": "noSA31wgKSrL"
   },
   "outputs": [],
   "source": [
    "# Adding nodes to the graph\n",
    "for word in l:\n",
    "    G.add_node(word)"
   ]
  },
  {
   "cell_type": "code",
   "execution_count": 52,
   "metadata": {
    "id": "wubty5wXKb9_"
   },
   "outputs": [],
   "source": [
    "# Adding edges between words\n",
    "for i in range(len(l) - 1):\n",
    "    G.add_edge(l[i], l[i+1])"
   ]
  },
  {
   "cell_type": "code",
   "execution_count": 53,
   "metadata": {
    "colab": {
     "base_uri": "https://localhost:8080/",
     "height": 319
    },
    "id": "WvJyceThKp9h",
    "outputId": "c453f5bb-2f93-4372-91cd-f966c0caddcd"
   },
   "outputs": [
    {
     "data": {
      "image/png": "[encoded data removed]",
      "text/plain": [
       "<Figure size 432x288 with 1 Axes>"
      ]
     },
     "metadata": {},
     "output_type": "display_data"
    }
   ],
   "source": [
    "# Drawing the graph\n",
    "nx.draw(G, with_labels=True)"
   ]
  },
  {
   "cell_type": "markdown",
   "metadata": {
    "id": "FM8as9kXB53o"
   },
   "source": [
    "# References"
   ]
  },
  {
   "cell_type": "markdown",
   "metadata": {
    "id": "CSZ-D4tMB9DD"
   },
   "source": [
    "1- https://www.analyticsvidhya.com/blog/2021/08/understanding-bar-plots-in-python-beginners-guide-to-data-visualization/\n",
    "\n",
    "2- https://scikit-learn.org/stable/modules/model_evaluation.html#classification-metrics"
   ]
  }
 ],
 "metadata": {
  "colab": {
   "provenance": []
  },
  "kernelspec": {
   "display_name": "Python 3",
   "language": "python",
   "name": "python3"
  },
  "language_info": {
   "codemirror_mode": {
    "name": "ipython",
    "version": 3
   },
   "file_extension": ".py",
   "mimetype": "text/x-python",
   "name": "python",
   "nbconvert_exporter": "python",
   "pygments_lexer": "ipython3",
   "version": "3.8.5"
  }
 },
 "nbformat": 4,
 "nbformat_minor": 1
}
